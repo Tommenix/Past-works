{
 "cells": [
  {
   "cell_type": "markdown",
   "metadata": {},
   "source": [
    "# Homework 5\n",
    "\n",
    "In this homework, you'll review some linear algebra, and practice using `scipy.optimize` to solve several variations of linear models.  "
   ]
  },
  {
   "cell_type": "code",
   "execution_count": 2,
   "metadata": {},
   "outputs": [],
   "source": [
    "import numpy as np\n",
    "import matplotlib.pyplot as plt\n",
    "import scipy.linalg as la\n",
    "import scipy.optimize as opt"
   ]
  },
  {
   "cell_type": "markdown",
   "metadata": {},
   "source": [
    "## Linear Models\n",
    "\n",
    "A standard problem in statistics to solve the multivariate linear regression problem.\n",
    "\\begin{equation}\n",
    "y = X * \\beta + \\epsilon\n",
    "\\end{equation}\n",
    "The above notation is standard in statistics, but in our discussion (and codes) we will replace $\\beta$ with `b`\n",
    "```\n",
    "y = X * b + eps.\n",
    "```\n",
    "`X` is known as the [design matrix](https://en.wikipedia.org/wiki/Design_matrix), and consists of `n` rows of observations, each of which has `p` features (so it is an $n\\times p$ matrix).  `y` is a vector of `n` responses.  `b` is an unknown vector of `p` coefficients which we would like to find.  `eps` (epsilon) is a vector of length `n` with random noise, typically i.i.d. normally distributed with variance `sig` (sigma).\n",
    "\n",
    "In numpy notation, we could express this as\n",
    "```python\n",
    "y[i] = np.dot(X[i], b) + sig * np.random.randn()\n",
    "```\n",
    "\n",
    "We want to determine `b`, so that when me make a new observation `X[n]` we can predict the response `y[n]`.  One way to do this is to minimize the mean square error\n",
    "\n",
    "\\begin{equation}\n",
    "\\mathop{\\mathsf{minimize}}_b \\mathbb{E}((X[n]*b - y[n])^2)\n",
    "\\end{equation}\n",
    "\n",
    "The solution to this is the solution to the least squares problem\n",
    "\\begin{equation}\n",
    "\\mathop{\\mathsf{minimize}}_b \\frac{1}{n} \\|X*b - y\\|_2^2\n",
    "\\end{equation}\n",
    "\n",
    "Where $n$ is the number of rows in $X$.  We'll let the solution to the problem be denoted $\\hat{b}$, or `bhat`."
   ]
  },
  {
   "cell_type": "markdown",
   "metadata": {},
   "source": [
    "## Problem 0 - Linear Regression (30 points)\n",
    "\n",
    "There are a variety of ways to solve the above problem.  We will assume that $n > p$, meaning there are more observations than features.\n",
    "\n",
    "### Part A: Generating Data (5 points)\n",
    "\n",
    "Write a function `gen_lstsq(n, p, sig=0.1)` which will generate a linear least squares problem (return `X`, `y`, and `b` as described above).  `b` is the \"ground truth\" coefficients that we are looking for.  You can generate the matrix `X` using `np.random.randn`, and generate `b` using `np.random.randn` as well. \n"
   ]
  },
  {
   "cell_type": "code",
   "execution_count": 3,
   "metadata": {},
   "outputs": [],
   "source": [
    "def gen_lstsq(n,p,sig = 0.1):\n",
    "    \"\"\"\n",
    "    This generate a random least square problem with noise.\n",
    "    \n",
    "    Inputs\n",
    "    -----------------\n",
    "    n: number of observations\n",
    "        type: int\n",
    "    p: number of parameters\n",
    "        type: int\n",
    "    sig: amplitude of noise\n",
    "        type: float\n",
    "        \n",
    "    Requirements\n",
    "    ------------------------\n",
    "    n > p, both n,p are positive real integers\n",
    "    sig >= 0\n",
    "    \n",
    "    Output\n",
    "    ------------------------\n",
    "    X: random design matrix\n",
    "        type: ndarray\n",
    "    y: solution to system\n",
    "        type: ndarray\n",
    "    b: random parameters\n",
    "        type: ndarray\n",
    "    \"\"\"\n",
    "    X = np.random.randn(n,p)\n",
    "    b = np.random.randn(p)\n",
    "    y = np.dot(X,b)+sig * np.random.randn()\n",
    "    return X,y,b"
   ]
  },
  {
   "cell_type": "code",
   "execution_count": 30,
   "metadata": {},
   "outputs": [
    {
     "name": "stdout",
     "output_type": "stream",
     "text": [
      "X is[[-1.07937603 -0.88535916  0.77453597 -0.46605247  0.82066191]\n",
      " [-1.0542678   0.88875856 -0.07005032 -0.53718857  1.11062593]\n",
      " [ 1.11848783  0.83166108 -0.7331085  -0.14439108  1.13960047]\n",
      " [-1.5268034   1.20172478  0.21099864  2.14547292  0.50557583]\n",
      " [ 0.5152186   0.1368822  -0.70200071  1.00775338  0.98745395]\n",
      " [-0.88709248  1.31457375 -1.42647159 -0.12025787 -0.34338162]\n",
      " [-1.87569337  0.1993357   0.26496183  0.27813348  0.75956919]\n",
      " [ 1.21063487 -0.54393782  1.22179642  1.72060262  1.60829131]\n",
      " [ 0.19891056  1.29016381  0.35959576  1.05579827  3.12615561]\n",
      " [-0.60136092 -0.20363069 -1.32979967 -2.19960518  0.77771534]]\n",
      "y is[ 0.7696032   0.53027801 -0.36956393  4.43897317  1.94197875  0.23572293\n",
      "  2.2929559   2.6786996   3.15154995 -2.00552649]\n",
      "b is[-0.77400254 -0.27793638 -0.22016767  1.52862167  0.67591178]\n"
     ]
    }
   ],
   "source": [
    "X,y,b = gen_lstsq(10,5)\n",
    "print(\"X is{}\".format(X))\n",
    "print(\"y is{}\".format(y))\n",
    "print(\"b is{}\".format(b))"
   ]
  },
  {
   "cell_type": "markdown",
   "metadata": {},
   "source": [
    "### Part B: QR factorization (3 points)\n",
    "\n",
    "If we form a QR factorization $X = QR$, we can find $\\hat{b} = R^{-1} Q^T y$.\n",
    "\n",
    "Write a function `solve_lstsq_qr(X, y)` which estimates `b` using the QR factorization as above. "
   ]
  },
  {
   "cell_type": "code",
   "execution_count": 4,
   "metadata": {},
   "outputs": [],
   "source": [
    "def solve_lstsq_qr(X,y):\n",
    "    \"\"\"\n",
    "    This function returns the parameters with design matrix and responces, using QR factorization.\n",
    "    \n",
    "    Inputs\n",
    "    -----------------------\n",
    "    X: design matrix\n",
    "        type: ndarray\n",
    "    y: responce to system\n",
    "        type: ndarray\n",
    "        \n",
    "    Requirements\n",
    "    ------------------------\n",
    "    If X is n x p, then\n",
    "    n > p, both n,p are positive real integers\n",
    "    and y is n x 1.\n",
    "    \n",
    "    Output\n",
    "    ------------------------\n",
    "    b: parameters\n",
    "        type: ndarray\n",
    "    \"\"\"\n",
    "    q, r = np.linalg.qr(X)\n",
    "    b = (np.linalg.inv(r)@ np.transpose(q)) @ y\n",
    "    return b\n"
   ]
  },
  {
   "cell_type": "code",
   "execution_count": 6,
   "metadata": {},
   "outputs": [
    {
     "name": "stdout",
     "output_type": "stream",
     "text": [
      "0.15370871262253585\n",
      "Not very small difference due to noise, but small enough to see it's functioning.\n"
     ]
    }
   ],
   "source": [
    "h = solve_lstsq_qr(X,y)\n",
    "print(np.linalg.norm(h-b))\n",
    "print(\"Not very small difference due to noise, but small enough to see it's functioning.\")"
   ]
  },
  {
   "cell_type": "code",
   "execution_count": 7,
   "metadata": {},
   "outputs": [
    {
     "data": {
      "text/plain": [
       "(1, 50)"
      ]
     },
     "execution_count": 7,
     "metadata": {},
     "output_type": "execute_result"
    }
   ],
   "source": [
    "n=100\n",
    "p=50\n",
    "X,y,b = gen_lstsq(100,50)\n",
    "h = solve_lstsq_qr(X,y)\n",
    "Jf = (2/n)*np.transpose(h)@(np.transpose(X) @ X)- (2/n)*np.transpose(y)@ X\n",
    "Jf.shape\n",
    "bh = (1/n)*(np.linalg.norm(np.matmul(X, b)-y)**2)\n",
    "type(Jf)\n",
    "Jf.shape"
   ]
  },
  {
   "cell_type": "markdown",
   "metadata": {},
   "source": [
    "### Part C: Normal Equations (3 points)\n",
    "\n",
    "Often, this is the way statistics textbooks solve the problem: $\\hat{b} = (X^T X)^{-1} X^T y$.  This is based on the normal equation $X^T X \\hat{b} = X^T y$.\n",
    "\n",
    "Write a function `solve_lstsq_normal(X, y)` which estimates `b` using the normal equations above. Note that forming the full inverse might be a little slow. Instead, you could try to apply $(X^TX)^{-1}$ by forming an LU or Cholesky factorization instead (see the Linear Algebra section of the course book or the documentation for some examples)."
   ]
  },
  {
   "cell_type": "code",
   "execution_count": 8,
   "metadata": {},
   "outputs": [],
   "source": [
    "def solve_lstsq_normal(X,y):\n",
    "    \"\"\"\n",
    "    This function returns the parameters with design matrix and responces, using the normal equation.\n",
    "    \n",
    "    Inputs\n",
    "    -----------------------\n",
    "    X: design matrix\n",
    "        type: ndarray\n",
    "    y: responce to system\n",
    "        type: ndarray\n",
    "        \n",
    "    Requirements\n",
    "    ------------------------\n",
    "    If X is n x p, then\n",
    "    n > p, both n,p are positive real integers\n",
    "    and y is n x 1.\n",
    "    \n",
    "    Output\n",
    "    ------------------------\n",
    "    b: parameters\n",
    "        type: ndarray\n",
    "    \"\"\"\n",
    "    XT = np.transpose(X)\n",
    "    P, L, U = la.lu( XT @ X )\n",
    "    b = ((np.linalg.inv(U)@ np.linalg.inv(L))@ np.transpose(P))@ XT@ y\n",
    "    return b"
   ]
  },
  {
   "cell_type": "code",
   "execution_count": 9,
   "metadata": {},
   "outputs": [
    {
     "name": "stdout",
     "output_type": "stream",
     "text": [
      "0.0703438017249215\n",
      "Not very small difference due to noise, but small enough to see it's functioning.\n"
     ]
    }
   ],
   "source": [
    "h = solve_lstsq_normal(X,y)\n",
    "print(np.linalg.norm(h-b))\n",
    "print(\"Not very small difference due to noise, but small enough to see it's functioning.\")"
   ]
  },
  {
   "cell_type": "markdown",
   "metadata": {},
   "source": [
    "### Part D: Check Your Work (3 points)\n",
    "\n",
    "Generate a few random problems to test that `solve_lstsq_qr` and `solve_lstsq_normal` give the same prediction $\\hat{b}$ (measure $\\|\\hat{b}_{qr} - \\hat{b}_{normal}\\|_2$ and check it is smaller than `1e-4`).  Use $n > p$.  Check against `solve_lstsq` in numpy or scipy as well."
   ]
  },
  {
   "cell_type": "code",
   "execution_count": 23,
   "metadata": {},
   "outputs": [
    {
     "name": "stdout",
     "output_type": "stream",
     "text": [
      "difference between two method's solution is 1.17430032258397e-14\n",
      "difference between the created method's solution and scipy lsq is 1.2011022911444407e-14\n"
     ]
    }
   ],
   "source": [
    "X,y,b = gen_lstsq(100,50)\n",
    "h1 = solve_lstsq_qr(X,y)\n",
    "h2 = solve_lstsq_normal(X,y)\n",
    "diff = np.linalg.norm(h1-h2)\n",
    "print(\"difference between two method's solution is {}\".format(diff))\n",
    "h3, res, rnk, s = la.lstsq(X,y)\n",
    "diff2 = np.linalg.norm(h1-h3)\n",
    "print(\"difference between the created method's solution and scipy lsq is {}\".format(diff2))"
   ]
  },
  {
   "cell_type": "markdown",
   "metadata": {},
   "source": [
    "### Part E: Estimate the Error (6 points)\n",
    "\n",
    "Write a function `err` which estimates the error in your fit using the equation $\\frac{1}{n}\\|X * \\hat{b} - y\\|_2^2$. The function should have the call signature `err(X,y,bhat).` \n",
    "\n",
    "Create a plot of the error vs the noise parameter `sig` (i.e. use your code from the previous parts to generate $y,$ $\\hat{b},$ and $X$ for various $\\sigma \\in[10^{-4},10]$ and use `err` to compute the corresponding error).  Use `n=100`, `p=50` when generating data.  Put your plot on log-log axes.  Give it a title and axis labels.\n",
    "\n",
    "As above, you should generate `X` to be `N x p` using `np.random.randn`, and set `y = X * b + sig * np.random.randn(p)`. Note: when choosing `sig` on $[10^{-4},10]$ it would help if you gave them a logarithmic distribution (like taking equispaced points $t_0,\\dots,t_N$ between -4 and 1, and setting $\\sigma_0 =10^{t_0},\\dots, \\sigma_N = 10^{t_n}.$\n",
    "\n",
    "(Optional) Try to make smoother plots by averaging the error over several trials.\n"
   ]
  },
  {
   "cell_type": "code",
   "execution_count": 10,
   "metadata": {},
   "outputs": [],
   "source": [
    "def err(X,y,bhat):\n",
    "    \"\"\"\n",
    "    This function returns the error in my fitting using equation above.\n",
    "    \n",
    "    Inputs\n",
    "    -----------------------\n",
    "    X: design matrix\n",
    "        type: ndarray\n",
    "    y: responce to system\n",
    "        type: ndarray\n",
    "    bhat: estimated parameters\n",
    "        type: ndarray\n",
    "        \n",
    "    Requirements\n",
    "    ------------------------\n",
    "    If X is n x p, then\n",
    "    n > p, both n,p are positive real integers\n",
    "    and y is n x 1.\n",
    "    \n",
    "    Output\n",
    "    ------------------------\n",
    "    error: error of parameter and real response\n",
    "        type: float\n",
    "    \"\"\"\n",
    "    n,p = X.shape\n",
    "    error = (1/n)*(np.linalg.norm(np.matmul(X, bhat)-y)**2)\n",
    "    return error"
   ]
  },
  {
   "cell_type": "code",
   "execution_count": 11,
   "metadata": {},
   "outputs": [],
   "source": [
    "n = 100\n",
    "p = 50\n",
    "trial = 100\n",
    "sig_pow = np.linspace(-4,1,trial)\n",
    "sig = 10**(sig_pow)\n",
    "\n",
    "# now we create the list of errors corresponding to list of variance.\n",
    "errl_qr = np.zeros(trial)\n",
    "errl_normal = np.zeros(trial)\n",
    "smooth_p = 20\n",
    "for count in range(smooth_p):\n",
    "    # This is to use more tries to make the plot smoother.\n",
    "    errl_qr_temp = []\n",
    "    errl_normal_temp = []\n",
    "    for sig_ele in sig:\n",
    "        X,y,b = gen_lstsq(n,p, sig_ele)\n",
    "        \n",
    "        bhat_qr = solve_lstsq_qr(X,y)\n",
    "        err_qr = err(X,y,bhat_qr)\n",
    "        errl_qr_temp.append(err_qr)\n",
    "\n",
    "        bhat_normal = solve_lstsq_normal(X,y)\n",
    "        err_normal = err(X,y,bhat_normal)\n",
    "        errl_normal_temp.append(err_normal)\n",
    "        \n",
    "    errl_qr = np.add(errl_qr, errl_qr_temp)\n",
    "    errl_normal = np.add(errl_normal, errl_normal_temp)\n",
    "    \n",
    "errl_qr = np.divide(errl_qr, smooth_p)\n",
    "errl_normal = np.divide(errl_normal, smooth_p)"
   ]
  },
  {
   "cell_type": "code",
   "execution_count": 12,
   "metadata": {},
   "outputs": [
    {
     "data": {
      "text/plain": [
       "Text(0.5, 1.0, 'normal method error - sigma plot; smoothened')"
      ]
     },
     "execution_count": 12,
     "metadata": {},
     "output_type": "execute_result"
    },
    {
     "data": {
      "image/png": "[encoded data removed]",
      "text/plain": [
       "<Figure size 936x360 with 2 Axes>"
      ]
     },
     "metadata": {
      "needs_background": "light"
     },
     "output_type": "display_data"
    }
   ],
   "source": [
    "fig, ax = plt.subplots(1, 2, figsize=(13,5))\n",
    "\n",
    "ax[0].loglog(sig, errl_qr)\n",
    "ax[0].set_xlabel(\"sigma\")\n",
    "ax[0].set_ylabel(\"error\")\n",
    "ax[0].set_title(\"qr method error - sigma plot; smoothened\")\n",
    "\n",
    "ax[1].loglog(sig, errl_normal)\n",
    "ax[1].set_xlabel(\"sigma\")\n",
    "ax[1].set_ylabel(\"error\")\n",
    "ax[1].set_title(\"normal method error - sigma plot; smoothened\")"
   ]
  },
  {
   "cell_type": "markdown",
   "metadata": {},
   "source": [
    "### Part F: Discussion (3 points)\n",
    "\n",
    "Which of `solve_lstsq_qr` and `solve_lstsq_normal` is faster?  Give a justification for your answer (e.g. in terms of what you know about time to compute matrix multiplication and factorizations)."
   ]
  },
  {
   "cell_type": "code",
   "execution_count": 83,
   "metadata": {},
   "outputs": [
    {
     "name": "stdout",
     "output_type": "stream",
     "text": [
      "For n = 20, p = 10, the QR method takes\n",
      "57.2 µs ± 850 ns per loop (mean ± std. dev. of 7 runs, 10000 loops each)\n",
      "and the normal method takes\n",
      "48.7 µs ± 1.44 µs per loop (mean ± std. dev. of 7 runs, 10000 loops each)\n",
      "\n",
      "For n = 200, p = 100, the QR method takes\n",
      "800 µs ± 19.9 µs per loop (mean ± std. dev. of 7 runs, 1000 loops each)\n",
      "and the normal method takes\n",
      "706 µs ± 39.8 µs per loop (mean ± std. dev. of 7 runs, 1000 loops each)\n",
      "\n",
      "For n = 2000, p = 1000, the QR method takes\n",
      "212 ms ± 11 ms per loop (mean ± std. dev. of 7 runs, 1 loop each)\n",
      "and the normal method takes\n",
      "186 ms ± 3.03 ms per loop (mean ± std. dev. of 7 runs, 10 loops each)\n"
     ]
    }
   ],
   "source": [
    "X,y,b = gen_lstsq(20,10)\n",
    "\n",
    "print(\"For n = 20, p = 10, the QR method takes\")\n",
    "%timeit solve_lstsq_qr(X,y)\n",
    "\n",
    "print(\"and the normal method takes\")\n",
    "%timeit solve_lstsq_normal(X,y)\n",
    "print()\n",
    "\n",
    "X,y,b = gen_lstsq(200,100)\n",
    "\n",
    "print(\"For n = 200, p = 100, the QR method takes\")\n",
    "%timeit solve_lstsq_qr(X,y)\n",
    "\n",
    "print(\"and the normal method takes\")\n",
    "%timeit solve_lstsq_normal(X,y)\n",
    "print()\n",
    "\n",
    "X,y,b = gen_lstsq(2000,1000)\n",
    "\n",
    "print(\"For n = 2000, p = 1000, the QR method takes\")\n",
    "%timeit solve_lstsq_qr(X,y)\n",
    "\n",
    "print(\"and the normal method takes\")\n",
    "%timeit solve_lstsq_normal(X,y)"
   ]
  },
  {
   "cell_type": "markdown",
   "metadata": {},
   "source": [
    "---\n",
    "\n",
    "_your discussion here_"
   ]
  },
  {
   "cell_type": "markdown",
   "metadata": {},
   "source": [
    "### Answer to discussion:\n",
    "So we can see that in general, for different scales of design matrices, the normal method is always slightly faster.\n",
    "\n",
    "This is because the qr method concerns with the computation of an inverse of $R$, whereas in the codes above we circumvented that for normal method with the use of LU factorization. \n",
    "\n",
    "The difference is not to big due to extra matrix multiplications in the normal method. And the fact that we're solving only one system."
   ]
  },
  {
   "cell_type": "markdown",
   "metadata": {},
   "source": [
    "### Part G: Optimization (5 points)\n",
    "\n",
    "Solve the minimization problem \n",
    "\\begin{equation}\n",
    "\\mathop{\\mathsf{minimize}}_b \\frac{1}{n}\\|X*b - y\\|_2^2\n",
    "\\end{equation}\n",
    "\n",
    "using `scipy.optimize.minimize`.  Wrap this in a function `solve_lstsq_opt(X, y)`.  Note that you can define the objective function inside `solve_lstsq_opt`\n",
    "\n",
    "**Jacobian**: you should implement the Jacobian of the objective function to use in the optimization problem.  Here's a derivation:  We'd like to minimize the objective function\n",
    "\\begin{equation}\n",
    "n f(b) = \\|X*b - y\\|_2^2 = (Xb - y)^T (Xb - y) = b^T X^T X b - 2 y^T X b + y^T y\n",
    "\\end{equation}\n",
    "\n",
    "We might write the above expression as\n",
    "\\begin{equation}\n",
    "n f(b) \\sum_{i,j} b_i (X^T X)_{i,j} b_j - 2\\sum_{j,i} y_i X_{i,j} b_j + y^T y\n",
    "\\end{equation}\n",
    "\n",
    "We can take a derivative with respect to $b_j$\n",
    "\\begin{equation}\n",
    "n \\frac{\\partial f}{\\partial b_j} = \\sum_{i\\ne j} b_i (X^T X)_{i,j} + \\sum_{i\\ne j} (X^T X)_{j,i} b_i + 2 (X^T X)_{j,j} b_j  - 2\\sum_{i} y_i X_{i,j}\n",
    "\\end{equation}\n",
    "\n",
    "Putting this in matrix form, we obtain\n",
    "\\begin{equation}\n",
    "J_f(b) =  \\frac{1}{n}\\big( b^T (X^T X) + b^T (X^T X)^T - 2y^T X\\big) = \\frac{2}{n} b^T (X^T X) -\\frac{2}{n}y^T X\n",
    "\\end{equation}\n",
    "\n",
    "So we can write $J_f(b) = \\frac{2}{n} b^T (X^T X) -\\frac{2}{n} y^T X$"
   ]
  },
  {
   "cell_type": "code",
   "execution_count": 5,
   "metadata": {},
   "outputs": [],
   "source": [
    "def solve_lstsq_opt(X, y):\n",
    "    \"\"\"\n",
    "    This function finds the solution y using a minimization method.\n",
    "    \n",
    "    Inputs\n",
    "    -----------------------\n",
    "    X: design matrix\n",
    "        type: ndarray\n",
    "    y: responce to system\n",
    "        type: ndarray\n",
    "        \n",
    "    Requirements\n",
    "    ------------------------\n",
    "    If X is n x p, then\n",
    "    n > p, both n,p are positive real integers\n",
    "    and y is n x 1.\n",
    "    \n",
    "    Jf: Jacobian matrix\n",
    "        type: ndarray\n",
    "        \n",
    "    Jf is 1 x p.\n",
    "    \n",
    "    Output\n",
    "    ------------------------\n",
    "    b: parameters\n",
    "        type: ndarray\n",
    "    \"\"\"\n",
    "    n,p = X.shape\n",
    "    to_min = lambda b : (1/n)*(np.power(la.norm(X @ b - y),2))\n",
    "    Jf = lambda b : (2/n)*(b.T @ ( X.T @ X))- (2/n)*(np.transpose(y)@ X)\n",
    "    sol = opt.minimize(to_min, x0 = np.random.rand(p),jac = Jf)\n",
    "    \n",
    "    # We'd like to do a little check about whether a minimum is reached.\n",
    "    if sol.success:\n",
    "        return sol.x\n",
    "    else:\n",
    "        print(\"The optimization is not successful, but still, the output is\")\n",
    "        return sol"
   ]
  },
  {
   "cell_type": "markdown",
   "metadata": {},
   "source": [
    "#### Check Your Work\n",
    "\n",
    "Generate a few random problems to test that `solve_lstsq_opt` agrees with `solve_lstsq_qr` and `solve_lstsq_normal` in part A.  Use the same tolerance for checking."
   ]
  },
  {
   "cell_type": "code",
   "execution_count": 34,
   "metadata": {},
   "outputs": [
    {
     "name": "stdout",
     "output_type": "stream",
     "text": [
      "difference between qr method and minimization is 1.2469001001907925e-05\n",
      "difference between normal method and minimization is 1.2469001005842327e-05\n"
     ]
    }
   ],
   "source": [
    "X,y,b = gen_lstsq(100,50)\n",
    "h1 = solve_lstsq_qr(X,y)\n",
    "h2 = solve_lstsq_normal(X,y)\n",
    "h4 = solve_lstsq_opt(X, y)\n",
    "diff = np.linalg.norm(h1-h4)\n",
    "print(\"difference between qr method and minimization is {}\".format(diff))\n",
    "diff2 = np.linalg.norm(h2-h4)\n",
    "print(\"difference between normal method and minimization is {}\".format(diff2))"
   ]
  },
  {
   "cell_type": "markdown",
   "metadata": {},
   "source": [
    "### Part H: Discussion (2 points)\n",
    "\n",
    "How fast is `solve_lstsq_opt` compared to the functions you wrote in part A?  Give some justification for what you see."
   ]
  },
  {
   "cell_type": "code",
   "execution_count": 6,
   "metadata": {},
   "outputs": [
    {
     "name": "stdout",
     "output_type": "stream",
     "text": [
      "For n = 20, p = 10, the QR method takes\n",
      "63.7 µs ± 2.51 µs per loop (mean ± std. dev. of 7 runs, 10000 loops each)\n",
      "and the minimization method takes\n",
      "1.71 ms ± 21 µs per loop (mean ± std. dev. of 7 runs, 1000 loops each)\n",
      "\n",
      "For n = 200, p = 100, the QR method takes\n",
      "791 µs ± 55.3 µs per loop (mean ± std. dev. of 7 runs, 1000 loops each)\n",
      "and the minimization method takes\n",
      "16.1 ms ± 673 µs per loop (mean ± std. dev. of 7 runs, 100 loops each)\n",
      "\n",
      "For n = 2000, p = 1000, the QR method takes\n",
      "198 ms ± 5.11 ms per loop (mean ± std. dev. of 7 runs, 1 loop each)\n",
      "and the minimization method takes\n",
      "3.75 s ± 121 ms per loop (mean ± std. dev. of 7 runs, 1 loop each)\n",
      "\n"
     ]
    }
   ],
   "source": [
    "X,y,b = gen_lstsq(20,10)\n",
    "\n",
    "print(\"For n = 20, p = 10, the QR method takes\")\n",
    "%timeit solve_lstsq_qr(X,y)\n",
    "\n",
    "print(\"and the minimization method takes\")\n",
    "%timeit solve_lstsq_opt(X,y)\n",
    "print()\n",
    "\n",
    "X,y,b = gen_lstsq(200,100)\n",
    "\n",
    "print(\"For n = 200, p = 100, the QR method takes\")\n",
    "%timeit solve_lstsq_qr(X,y)\n",
    "\n",
    "print(\"and the minimization method takes\")\n",
    "%timeit solve_lstsq_opt(X,y)\n",
    "print()\n",
    "\n",
    "X,y,b = gen_lstsq(2000,1000)\n",
    "\n",
    "print(\"For n = 2000, p = 1000, the QR method takes\")\n",
    "%timeit solve_lstsq_qr(X,y)\n",
    "\n",
    "print(\"and the minimization method takes\")\n",
    "%timeit solve_lstsq_opt(X,y)\n",
    "print()"
   ]
  },
  {
   "cell_type": "markdown",
   "metadata": {},
   "source": [
    "---\n",
    "\n",
    "THe minimization method is a lot slower. But that makes sense because we have to first compute the jacobian."
   ]
  },
  {
   "cell_type": "markdown",
   "metadata": {},
   "source": [
    "## Problem 1 - Ridge Regression (10 points)\n",
    "\n",
    "We'll now turn to the problem of what to do when `n < p` (there are now fewer observations than features).  In this case we can find a $b$ which satisfies the equation $X * b = y$ exactly, but there are many possible values of $b$ which can satisfy the equation.\n",
    "\n",
    "As we discussed in class, we can change the problem to try to make it unique. One simple way of doing this is to add an additional term to our optimization problem. Ridge regression is one such approach.\n",
    "\n",
    "Ridge regression seeks to solve the following optimization problem:\n",
    "\n",
    "\\begin{equation}\n",
    "\\mathop{\\mathsf{minimize}}_b \\frac{1}{n}\\|X*b - y\\|_2^2 + \\lambda \\|b\\|_2^2\n",
    "\\end{equation}\n",
    "\n",
    "$\\lambda$ is a parameter you can choose to \"regularize\" the problem which you can choose.\n",
    "\n",
    "### Part A: Optimization (6 points)\n",
    "\n",
    "Use `scipy.optimize.minimize` to minimize the above optimization problem.  Wrap this in a function `solve_ridge_opt(X, y, lam=0.1)` (`lam` should be provided as a keyword argument for the variable $\\lambda$).\n",
    "\n",
    "What is the Jacobian for the objective function for the minimization problem?  Incorporate this into your optimization problem.  Hint: differentiation is linear, so you just need to add a term to the Jacobian in Problem 0 based on the Jacobian of\n",
    "\\begin{equation}\n",
    "\\lambda \\|b\\|_2^2 = \\lambda b^T b = \\lambda \\sum_i b_i^2\n",
    "\\end{equation}\n",
    "\n",
    "---\n",
    "\n",
    "It's clear that we only need to add $2\\lambda b^T$ in the expression of the Jacobian due to addition rule.\n",
    "\n",
    "i.e.  $J_f(b) = \\frac{2}{n} b^T (X^T X) -\\frac{2}{n} y^T X + 2\\lambda b^T$."
   ]
  },
  {
   "cell_type": "code",
   "execution_count": 148,
   "metadata": {},
   "outputs": [],
   "source": [
    "def solve_ridge_opt(X, y, lam=0.1):\n",
    "    \"\"\"\n",
    "    This function finds the solution y using a minimization method.\n",
    "    \n",
    "    Inputs\n",
    "    -----------------------\n",
    "    X: design matrix\n",
    "        type: ndarray\n",
    "    y: responce to system\n",
    "        type: ndarray\n",
    "    lam: parameter with respect to b\n",
    "        type: float\n",
    "        \n",
    "    Requirements\n",
    "    ------------------------\n",
    "    If X is n x p, then\n",
    "    n > p, both n,p are positive real integers\n",
    "    and y is n x 1.\n",
    "    \n",
    "    Jf is 1 x p.\n",
    "    \n",
    "    Output\n",
    "    ------------------------\n",
    "    b: parameters\n",
    "        type: ndarray\n",
    "    Jf: Jacobian matrix\n",
    "        type: ndarray\n",
    "    \"\"\"\n",
    "    n,p = X.shape\n",
    "    to_min = lambda b : float((1/n)*((np.linalg.norm(np.matmul(X, b)-y))**2)+lam*(np.linalg.norm(b)**2))\n",
    "    Jf = lambda b : (2/n)*(np.transpose(b)@(np.transpose(X) @ X))- (2/n)*(np.transpose(y)@ X)+2*lam*np.transpose(b)\n",
    "    sol = opt.minimize(to_min, x0 = np.random.randn(p,1),jac=Jf)\n",
    "    \n",
    "    # We'd like to do a little check about whether a minimum is reached.\n",
    "    if sol.success:\n",
    "        return sol.x\n",
    "    else:\n",
    "        print(\"The optimization is not successful, but still, the output is\")\n",
    "        return sol"
   ]
  },
  {
   "cell_type": "code",
   "execution_count": 149,
   "metadata": {},
   "outputs": [
    {
     "data": {
      "text/plain": [
       "(50, 1)"
      ]
     },
     "execution_count": 149,
     "metadata": {},
     "output_type": "execute_result"
    }
   ],
   "source": [
    "x0 = np.random.randn(50,1)\n",
    "x0.shape"
   ]
  },
  {
   "cell_type": "markdown",
   "metadata": {},
   "source": [
    "### Part B: Compute the error (4 points)\n",
    "\n",
    "Set `n = 50`, `p=100`, and `sig=0.1`.  Make a plot that displays the error of `bhat` computed using `solve_ridge_opt` as `lam` varies between `1e-4` and `1e2` (see Problem 0, Part E).  Use a `semilogx` plot."
   ]
  },
  {
   "cell_type": "code",
   "execution_count": 150,
   "metadata": {},
   "outputs": [],
   "source": [
    "X,y,b = gen_lstsq(50,100)\n",
    "h5 = solve_ridge_opt(X, y)"
   ]
  },
  {
   "cell_type": "code",
   "execution_count": 151,
   "metadata": {},
   "outputs": [],
   "source": [
    "n = 50\n",
    "p = 100\n",
    "trial = 100\n",
    "lam_pow = np.linspace(-4,2,trial)\n",
    "lam = 10**(lam_pow)\n",
    "\n",
    "# now we create the list of errors corresponding to list of variance.\n",
    "errl_ridge = np.zeros(trial)\n",
    "smooth_p = 100\n",
    "for count in range(smooth_p):\n",
    "    # This is to use more tries to make the plot smoother.\n",
    "    errl_ridge_temp = []\n",
    "    for lam_ele in lam:\n",
    "        X,y,b = gen_lstsq(n,p)\n",
    "        \n",
    "        bhat_ridge = solve_ridge_opt(X,y,lam_ele)\n",
    "        err_ridge = err(X,y,bhat_ridge)\n",
    "        # the error function is the same one as above, so we don'e implement it again.\n",
    "        errl_ridge_temp.append(err_ridge)\n",
    "        \n",
    "    errl_ridge = np.add(errl_ridge, errl_ridge_temp)\n",
    "    \n",
    "errl_ridge = np.divide(errl_ridge, smooth_p)"
   ]
  },
  {
   "cell_type": "code",
   "execution_count": 152,
   "metadata": {},
   "outputs": [
    {
     "data": {
      "text/plain": [
       "Text(0.5, 1.0, 'ridge method error - lambda semilogx plot; smoothened')"
      ]
     },
     "execution_count": 152,
     "metadata": {},
     "output_type": "execute_result"
    },
    {
     "data": {
      "image/png": "[encoded data removed]",
      "text/plain": [
       "<Figure size 432x288 with 1 Axes>"
      ]
     },
     "metadata": {
      "needs_background": "light"
     },
     "output_type": "display_data"
    }
   ],
   "source": [
    "plt.semilogx(lam, errl_ridge)\n",
    "plt.xlabel(\"lambda\")\n",
    "plt.ylabel(\"error\")\n",
    "plt.title(\"ridge method error - lambda semilogx plot; smoothened\")"
   ]
  },
  {
   "cell_type": "code",
   "execution_count": 153,
   "metadata": {},
   "outputs": [
    {
     "data": {
      "text/plain": [
       "Text(0.5, 1.0, 'ridge method error - lambda loglog plot; smoothened')"
      ]
     },
     "execution_count": 153,
     "metadata": {},
     "output_type": "execute_result"
    },
    {
     "data": {
      "image/png": "[encoded data removed]",
      "text/plain": [
       "<Figure size 432x288 with 1 Axes>"
      ]
     },
     "metadata": {
      "needs_background": "light"
     },
     "output_type": "display_data"
    }
   ],
   "source": [
    "plt.loglog(lam, errl_ridge)\n",
    "plt.xlabel(\"lambda\")\n",
    "plt.ylabel(\"error\")\n",
    "plt.title(\"ridge method error - lambda loglog plot; smoothened\")"
   ]
  },
  {
   "cell_type": "markdown",
   "metadata": {},
   "source": [
    "### Analysis (optional - no points)\n",
    "\n",
    "Find an analytic expression for the true solution to the ridge regression problem in terms of $X,$ $\\lambda,$ and $y.$"
   ]
  },
  {
   "cell_type": "markdown",
   "metadata": {},
   "source": [
    "### SVD (optional - no points)\n",
    "\n",
    "Use the SVD to solve $X*b = y.$ Do this by forming the SVD of $X = U\\Sigma V^T.$ Set $b = V z$ where $V$ is the $p\\times n$ matrix consisting of the first $n$ right singular vectors (why?). Then, the system you get is $U \\Sigma z = y.$ You can solve it by applying $U^T$ to both sides (why?) and noting that $\\Sigma$ is diagonal. \n",
    "\n",
    "Note that you should be using the version of the SVD which (for $n<p$ but $X$ having full rank) gives $U$ as an $n\\times n$ matrix, $\\Sigma$ as an $n\\times n$ diagonal matrix, and $V$ as a $p \\times n$ matrix."
   ]
  },
  {
   "cell_type": "markdown",
   "metadata": {},
   "source": [
    "## Problem 2 - Lasso (20 points)\n",
    "\n",
    "The Lasso is L1-regularized regression.  This is often used when `p > n`, and when the parameter vector `b` is assumed to be sparse, meaning that it has few non-zero entries.\n",
    "\n",
    "The minimization problem is\n",
    "\\begin{equation}\n",
    "\\mathop{\\mathsf{minimize}}_b \\frac{1}{n} \\|X * b - y\\|_2^2 + \\lambda \\|b\\|_1\n",
    "\\end{equation}\n",
    "\n",
    "Where again, $\\lambda$ can be chosen."
   ]
  },
  {
   "cell_type": "markdown",
   "metadata": {},
   "source": [
    "### Part A: Generate Data (6 points)\n",
    "\n",
    "We need to modify our generation of data to produce sparse `b`.  Write a function `gen_lstsq_sparse(n, p, sig=0.1, k=10)`, which generates `X` and `y` in the same way as `gen_lstsq`, but now `b` is generated to be a vector of length `p` with `k` random entries set to 1, and all other entries set to 0. Hint: look at `np.random.choice` for generating `k` random integers without replacement."
   ]
  },
  {
   "cell_type": "code",
   "execution_count": 42,
   "metadata": {},
   "outputs": [],
   "source": [
    "def gen_lstsq_sparse(n,p,sig = 0.1, k = 10):\n",
    "    \"\"\"\n",
    "    This generate a random least square problem with noise.\n",
    "    \n",
    "    Inputs\n",
    "    -----------------\n",
    "    n: number of observations\n",
    "        type: int\n",
    "    p: number of parameters\n",
    "        type: int\n",
    "    sig: amplitude of noise\n",
    "        type: float\n",
    "    k: how many entries of b is nonempty(value=1)\n",
    "        type: int\n",
    "    \n",
    "    Requirements\n",
    "    ------------------------\n",
    "    n < p, both n,p are positive real integers\n",
    "    sig >= 0\n",
    "    \n",
    "    p>k\n",
    "    \n",
    "    Output\n",
    "    ------------------------\n",
    "    X: random design matrix\n",
    "        type: ndarray\n",
    "    y: solution to system\n",
    "        type: ndarray\n",
    "    b: random parameters\n",
    "        type: ndarray\n",
    "    \"\"\"\n",
    "    X = np.random.randn(n,p)\n",
    "    b = np.zeros(p)\n",
    "    nonzerolist = np.random.choice(p, k, replace=False)\n",
    "    for i in nonzerolist:\n",
    "        b[i] = 1\n",
    "    y = np.dot(X,b)+sig * np.random.randn()\n",
    "    return X,y,b"
   ]
  },
  {
   "cell_type": "code",
   "execution_count": 92,
   "metadata": {},
   "outputs": [
    {
     "data": {
      "text/plain": [
       "(100,)"
      ]
     },
     "execution_count": 92,
     "metadata": {},
     "output_type": "execute_result"
    }
   ],
   "source": [
    "X,y,b = gen_lstsq_sparse(50,100)\n",
    "(np.linalg.norm(b,1))\n",
    "jf = (2/n)*(b @(np.transpose(X) @ X))- (2/n)*(np.transpose(y)@ X)+lam*(np.sign(b.T))\n",
    "jf.shape"
   ]
  },
  {
   "cell_type": "markdown",
   "metadata": {},
   "source": [
    "### Part B: Optimization (10 points)\n",
    "\n",
    "Recall we want to find `bhat` to solve\n",
    "\\begin{equation}\n",
    "\\mathop{\\mathsf{minimize}}_b \\frac{1}{n} \\|X * b - y\\|_2^2 + \\lambda \\|b\\|_1\n",
    "\\end{equation}\n",
    "\n",
    "Use `scipy.optimize.minimize` to minimize the above optimization problem.  Wrap this in a function `solve_lasso_opt(X, y, lam=0.1)` (`lam` should be provided as a keyword argument for the variable $\\lambda$).\n",
    "\n",
    "What is the Jacobian for the objective function for the minimization problem?  Incorporate this into your optimization problem.  Hint: differentiation is linear, so you just need to add a term to the Jacobian in Problem 0 based on the Jacobian of\n",
    "\\begin{equation}\n",
    "\\lambda \\|b\\|_1 = \\lambda \\sum_i |b_i|\n",
    "\\end{equation}\n",
    "\n",
    "If $b_i$ is zero, then take $\\partial_i |b_i| = 0$ (this is in the [subgradient](https://en.wikipedia.org/wiki/Subderivative)). Hint 2: look at `np.sign` for implementation\n",
    "\n",
    "---\n",
    "\n",
    "The expression is just to add $\\lambda*sign(b^T)$.\n",
    "\n",
    "i.e. $J_f(b) = \\frac{2}{n} b^T (X^T X) -\\frac{2}{n} y^T X + \\lambda*sign(b^T)$.\n",
    "\n",
    "But if we use our gen_lstsq_lasso method, the out put $b = sign(b)$! So we are good to just use b to make it faster."
   ]
  },
  {
   "cell_type": "code",
   "execution_count": 154,
   "metadata": {},
   "outputs": [],
   "source": [
    "def solve_lasso_opt(X, y, lam=0.1):\n",
    "    \"\"\"\n",
    "    This function finds the solution y using a minimization method.\n",
    "    \n",
    "    Inputs\n",
    "    -----------------------\n",
    "    X: design matrix\n",
    "        type: ndarray\n",
    "    y: responce to system\n",
    "        type: ndarray\n",
    "    lam: parameter with respect to b\n",
    "        type: float\n",
    "        \n",
    "    Requirements\n",
    "    ------------------------\n",
    "    If X is n x p, then\n",
    "    n > p, both n,p are positive real integers\n",
    "    and y is n x 1.\n",
    "    \n",
    "    Jf is 1 x p.\n",
    "    \n",
    "    Output\n",
    "    ------------------------\n",
    "    b: parameters\n",
    "        type: ndarray\n",
    "    Jf: Jacobian matrix\n",
    "        type: ndarray\n",
    "    \"\"\"\n",
    "    n,p = X.shape\n",
    "    to_min = lambda b : float((1/n)*((np.linalg.norm(np.matmul(X, b)-y))**2)+lam*(np.linalg.norm(b,1)))\n",
    "    Jf = lambda b : (2/n)*(b @(np.transpose(X) @ X))- (2/n)*(np.transpose(y)@ X)+lam*b\n",
    "    sol = opt.minimize(to_min, x0 = np.random.randn(p),jac=Jf,tol=1e-4)\n",
    "    # the tolerance of the matrix needs to be larger, otherwise it always says doesn't converge.\n",
    "    \n",
    "    # We'd like to do a little check about whether a minimum is reached.\n",
    "    if sol.success:\n",
    "        return sol.x\n",
    "    else:\n",
    "        return sol.x"
   ]
  },
  {
   "cell_type": "code",
   "execution_count": 155,
   "metadata": {},
   "outputs": [
    {
     "name": "stdout",
     "output_type": "stream",
     "text": [
      "0.0\n"
     ]
    }
   ],
   "source": [
    "X,y,b = gen_lstsq_sparse(50,100)\n",
    "print(np.linalg.norm(b-np.sign(b)))"
   ]
  },
  {
   "cell_type": "markdown",
   "metadata": {},
   "source": [
    "### Part C: Compute the Error (4 points)\n",
    "\n",
    "Set `n = 50`, `p=100`,`sig=0.1`, and `k=10` to generate a problem using `gen_lstsq_sparse`.  Make a plot that displays the error of `bhat` computed using `solve_lasso_opt` as `lam` varies between `1e-4` and `1e2`.  Use a `semilogx` plot."
   ]
  },
  {
   "cell_type": "code",
   "execution_count": 156,
   "metadata": {},
   "outputs": [],
   "source": [
    "n = 50\n",
    "p = 100\n",
    "trial = 100\n",
    "lam_pow = np.linspace(-4,2,trial)\n",
    "lam = 10**(lam_pow)\n",
    "\n",
    "# now we create the list of errors corresponding to list of variance.\n",
    "errl_lasso = np.zeros(trial)\n",
    "smooth_p = 100\n",
    "for count in range(smooth_p):\n",
    "    # This is to use more tries to make the plot smoother.\n",
    "    errl_lasso_temp = []\n",
    "    for lam_ele in lam:\n",
    "        X,y,b = gen_lstsq_sparse(n,p)\n",
    "        bhat_lasso = solve_lasso_opt(X,y,lam = lam_ele)\n",
    "        np.matmul(X, bhat_lasso)\n",
    "        err_lasso = err( X , y , bhat_lasso)\n",
    "        # the error function is the same one as above, so we don'e implement it again.\n",
    "        errl_lasso_temp.append(err_lasso)\n",
    "        \n",
    "    errl_lasso = np.add(errl_lasso, errl_lasso_temp)\n",
    "    \n",
    "errl_lasso = np.divide(errl_lasso, smooth_p)"
   ]
  },
  {
   "cell_type": "markdown",
   "metadata": {},
   "source": [
    "After checking, even though the optimization does not converge, the result we get below is already good enough. It means only a matter of tolerance is affecting the rsult. "
   ]
  },
  {
   "cell_type": "code",
   "execution_count": 157,
   "metadata": {},
   "outputs": [
    {
     "data": {
      "text/plain": [
       "Text(0.5, 1.0, 'lasso method error - lambda semilogx plot; smoothened')"
      ]
     },
     "execution_count": 157,
     "metadata": {},
     "output_type": "execute_result"
    },
    {
     "data": {
      "image/png": "[encoded data removed]",
      "text/plain": [
       "<Figure size 432x288 with 1 Axes>"
      ]
     },
     "metadata": {
      "needs_background": "light"
     },
     "output_type": "display_data"
    }
   ],
   "source": [
    "plt.semilogx(lam, errl_lasso)\n",
    "plt.xlabel(\"lambda\")\n",
    "plt.ylabel(\"error\")\n",
    "plt.title(\"lasso method error - lambda semilogx plot; smoothened\")"
   ]
  },
  {
   "cell_type": "code",
   "execution_count": 158,
   "metadata": {},
   "outputs": [
    {
     "data": {
      "text/plain": [
       "Text(0.5, 1.0, 'lasso method error - lambda loglog plot; smoothened')"
      ]
     },
     "execution_count": 158,
     "metadata": {},
     "output_type": "execute_result"
    },
    {
     "data": {
      "image/png": "[encoded data removed]",
      "text/plain": [
       "<Figure size 432x288 with 1 Axes>"
      ]
     },
     "metadata": {
      "needs_background": "light"
     },
     "output_type": "display_data"
    }
   ],
   "source": [
    "plt.loglog(lam, errl_lasso)\n",
    "plt.xlabel(\"lambda\")\n",
    "plt.ylabel(\"error\")\n",
    "plt.title(\"lasso method error - lambda loglog plot; smoothened\")"
   ]
  },
  {
   "cell_type": "code",
   "execution_count": null,
   "metadata": {},
   "outputs": [],
   "source": []
  },
  {
   "cell_type": "code",
   "execution_count": null,
   "metadata": {},
   "outputs": [],
   "source": []
  }
 ],
 "metadata": {
  "kernelspec": {
   "display_name": "Python 3 (ipykernel)",
   "language": "python",
   "name": "python3"
  },
  "language_info": {
   "codemirror_mode": {
    "name": "ipython",
    "version": 3
   },
   "file_extension": ".py",
   "mimetype": "text/x-python",
   "name": "python",
   "nbconvert_exporter": "python",
   "pygments_lexer": "ipython3",
   "version": "3.9.7"
  }
 },
 "nbformat": 4,
 "nbformat_minor": 4
}
