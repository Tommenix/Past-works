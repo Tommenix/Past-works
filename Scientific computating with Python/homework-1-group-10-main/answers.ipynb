{
 "cells": [
  {
   "cell_type": "markdown",
   "id": "b80522cf",
   "metadata": {},
   "source": [
    "##CAN YOU CHECK THE LOCAL FILE FOR IMAGES? Problem 0 part A: plot for 5*x^2 + 3*x + 1\n",
    "![polynomial](polynomial531.png)"
   ]
  },
  {
   "cell_type": "markdown",
   "id": "f91e0cf2",
   "metadata": {},
   "source": [
    "## Problem 0 part B: plot for Scale(2)\n",
    "![scale](scale2.png)"
   ]
  },
  {
   "cell_type": "markdown",
   "id": "b9609ebe",
   "metadata": {},
   "source": [
    "## Problem 0 part B: plot for Constant(1)\n",
    "![constant](constant1.png)"
   ]
  },
  {
   "cell_type": "markdown",
   "id": "b2a1136b",
   "metadata": {},
   "source": [
    "## Problem 0 part C: plot for Compose(Polynomial(1,0,0), Polynomial(1,0,0))\n",
    "![Compose](compose.png)\n",
    "The equavalent function expression of polynomial is x^4 or Polynomial(1,0,0,0)."
   ]
  },
  {
   "cell_type": "markdown",
   "id": "bfa6bf46",
   "metadata": {},
   "source": [
    "## Problem 0 part D: plot for Power(-1)\n",
    "![power](power-1.png)"
   ]
  },
  {
   "cell_type": "markdown",
   "id": "8eac28e4",
   "metadata": {},
   "source": [
    "## Problem 0 part D: plot for Log(x)\n",
    "![log](logx.png)"
   ]
  },
  {
   "cell_type": "markdown",
   "id": "85ebae0e",
   "metadata": {},
   "source": [
    "## Problem 0 part D: plot for Exponential(X)\n",
    "![exponential](exponential.png)"
   ]
  },
  {
   "cell_type": "markdown",
   "id": "586d51c0",
   "metadata": {},
   "source": [
    "## Problem 0 part D: plot for Sin(x)\n",
    "![sin](sinx.png)"
   ]
  },
  {
   "cell_type": "markdown",
   "id": "ff832c86",
   "metadata": {},
   "source": [
    "## Problem 0 part D: plot for Cos(x)\n",
    "![cos](cosx.png)"
   ]
  },
  {
   "cell_type": "markdown",
   "id": "7a568b7f",
   "metadata": {},
   "source": [
    "## Problem 0 part E\n",
    "![symbolic](Symbolic.png)"
   ]
  },
  {
   "cell_type": "markdown",
   "id": "29f2c40d",
   "metadata": {},
   "source": [
    "## Problem 0 part f (1)\n",
    "![f1](f1.png)\n",
    "The derivative of 5x^2 + 3x + 1 is 10x + 3."
   ]
  },
  {
   "cell_type": "markdown",
   "id": "9273a080",
   "metadata": {},
   "source": [
    "## Problem 0 part f (2)\n",
    "![f2](f2.png)\n",
    "The \"Quotient rule\" we produced using our code does not reduce to the quotient rule known in calculas since we did not implement quotient rule in our class. \n"
   ]
  },
  {
   "cell_type": "markdown",
   "id": "48942d4a",
   "metadata": {},
   "source": [
    "## Problem 0 part f (3)\n",
    "![f3](f3.png)\n",
    "The derivative of sin(x)**2 is 2cos(x)sin(x)."
   ]
  },
  {
   "cell_type": "markdown",
   "id": "babf5c41",
   "metadata": {},
   "source": [
    "## Problem 0 part f (4)\n",
    "![f4](f4.png)\n",
    "The second derivative of exp(5*x) is 25*exp(5*x)"
   ]
  },
  {
   "cell_type": "markdown",
   "id": "6e2f8c0a",
   "metadata": {},
   "source": [
    "## Problem 1\n",
    "![p1](p1.png)"
   ]
  },
  {
   "cell_type": "markdown",
   "id": "0cb2d490",
   "metadata": {},
   "source": [
    "## Problem 2 b\n",
    "![p2](p2.png)"
   ]
  },
  {
   "cell_type": "code",
   "execution_count": null,
   "id": "9cfd5ca4",
   "metadata": {},
   "outputs": [],
   "source": []
  }
 ],
 "metadata": {
  "kernelspec": {
   "display_name": "Python (pycourse)",
   "language": "python",
   "name": "pycourse"
  },
  "language_info": {
   "codemirror_mode": {
    "name": "ipython",
    "version": 3
   },
   "file_extension": ".py",
   "mimetype": "text/x-python",
   "name": "python",
   "nbconvert_exporter": "python",
   "pygments_lexer": "ipython3",
   "version": "3.9.12"
  }
 },
 "nbformat": 4,
 "nbformat_minor": 5
}
